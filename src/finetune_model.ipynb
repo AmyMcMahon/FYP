{
 "cells": [
  {
   "cell_type": "code",
   "execution_count": 13,
   "metadata": {},
   "outputs": [],
   "source": [
    "import pandas as pd\n",
    "import torch\n",
    "from datasets import Dataset\n",
    "from transformers import AutoTokenizer, AutoModelForSequenceClassification, TrainingArguments, Trainer\n",
    "from sklearn.preprocessing import LabelEncoder\n",
    "from sklearn.metrics import accuracy_score, f1_score, precision_score, recall_score, confusion_matrix, ConfusionMatrixDisplay\n",
    "from transformers import AutoModelForSequenceClassification, AutoTokenizer\n",
    "\n",
    "\n"
   ]
  },
  {
   "cell_type": "code",
   "execution_count": 2,
   "metadata": {},
   "outputs": [],
   "source": [
    "df = pd.read_csv(\"../datasets/train/final_labels.csv\")\n",
    "df = df[['body', 'level_1']].dropna()"
   ]
  },
  {
   "cell_type": "code",
   "execution_count": 3,
   "metadata": {},
   "outputs": [],
   "source": [
    "label_encoder = LabelEncoder()\n",
    "df['label'] = label_encoder.fit_transform(df['level_1'])  # e.g., Nonmisogynistic = 1, Misogynistic = 0\n",
    "\n",
    "dataset = Dataset.from_pandas(df[['body', 'label']])\n",
    "\n",
    "dataset = dataset.train_test_split(test_size=0.2)\n",
    "train_dataset = dataset['train']\n",
    "test_dataset = dataset['test']"
   ]
  },
  {
   "cell_type": "code",
   "execution_count": 9,
   "metadata": {},
   "outputs": [
    {
     "name": "stderr",
     "output_type": "stream",
     "text": [
      "Map: 100%|██████████| 1311/1311 [00:01<00:00, 1124.87 examples/s]\n"
     ]
    }
   ],
   "source": [
    "# model_name = \"MilaNLProc/bert-base-uncased-ear-misogyny\"\n",
    "# tokenizer = AutoTokenizer.from_pretrained(model_name)\n",
    "# model = AutoModelForSequenceClassification.from_pretrained(model_name, num_labels=2)\n",
    "\n",
    "model = AutoModelForSequenceClassification.from_pretrained(\"misogyny-classifier\")\n",
    "tokenizer = AutoTokenizer.from_pretrained(\"misogyny-classifier\")\n",
    "\n",
    "# 6. Tokenize the data\n",
    "def tokenize_function(example):\n",
    "    return tokenizer(example[\"body\"], padding=\"max_length\", truncation=True, max_length=512)\n",
    "\n",
    "#train_dataset = train_dataset.map(tokenize_function, batched=True)\n",
    "test_dataset = test_dataset.map(tokenize_function, batched=True)\n"
   ]
  },
  {
   "cell_type": "code",
   "execution_count": 10,
   "metadata": {},
   "outputs": [],
   "source": [
    "def compute_metrics(eval_pred):\n",
    "    logits, labels = eval_pred\n",
    "    predictions = torch.argmax(torch.tensor(logits), dim=-1)\n",
    "    return {\n",
    "        \"accuracy\": accuracy_score(labels, predictions),\n",
    "        \"f1\": f1_score(labels, predictions),\n",
    "        \"precision\": precision_score(labels, predictions),\n",
    "        \"recall\": recall_score(labels, predictions),\n",
    "    }\n",
    "\n",
    "# 8. Training arguments\n",
    "# training_args = TrainingArguments(\n",
    "#     output_dir=\"./results\",\n",
    "#     evaluation_strategy=\"epoch\",\n",
    "#     save_strategy=\"epoch\",\n",
    "#     learning_rate=2e-5,\n",
    "#     per_device_train_batch_size=16,\n",
    "#     per_device_eval_batch_size=16,\n",
    "#     num_train_epochs=4,\n",
    "#     weight_decay=0.01,\n",
    "#     logging_dir='./logs',\n",
    "#     save_total_limit=1,\n",
    "#     load_best_model_at_end=True,\n",
    "#     metric_for_best_model=\"f1\"\n",
    "# )\n",
    "\n",
    "training_args = TrainingArguments(output_dir=\"./eval\", per_device_eval_batch_size=16)\n",
    "\n",
    "# 9. Trainer\n",
    "trainer = Trainer(\n",
    "    model=model,\n",
    "    args=training_args,\n",
    "    #train_dataset=train_dataset,\n",
    "    eval_dataset=test_dataset,\n",
    "    compute_metrics=compute_metrics,\n",
    ")\n",
    "\n",
    "# 10. Train\n",
    "# trainer.train()"
   ]
  },
  {
   "cell_type": "code",
   "execution_count": 11,
   "metadata": {},
   "outputs": [
    {
     "data": {
      "text/html": [
       "\n",
       "    <div>\n",
       "      \n",
       "      <progress value='82' max='82' style='width:300px; height:20px; vertical-align: middle;'></progress>\n",
       "      [82/82 16:31]\n",
       "    </div>\n",
       "    "
      ],
      "text/plain": [
       "<IPython.core.display.HTML object>"
      ]
     },
     "metadata": {},
     "output_type": "display_data"
    },
    {
     "name": "stdout",
     "output_type": "stream",
     "text": [
      "Evaluation Results: {'eval_loss': 0.09249640256166458, 'eval_model_preparation_time': 0.0042, 'eval_accuracy': 0.9801678108314263, 'eval_f1': 0.9889737065309584, 'eval_precision': 0.9806560134566863, 'eval_recall': 0.9974337040205303, 'eval_runtime': 1011.7358, 'eval_samples_per_second': 1.296, 'eval_steps_per_second': 0.081}\n"
     ]
    }
   ],
   "source": [
    "# # 11. Evaluate\n",
    "eval_result = trainer.evaluate()\n",
    "print(\"Evaluation Results:\", eval_result)\n",
    "\n",
    "# # (Optional) Save model\n",
    "# trainer.save_model(\"misogyny-classifier\")\n",
    "# tokenizer.save_pretrained(\"misogyny-classifier\")"
   ]
  },
  {
   "cell_type": "code",
   "execution_count": null,
   "metadata": {},
   "outputs": [],
   "source": [
    "\n",
    "# 1. Tokenize test texts\n",
    "test_texts = test_dataset[\"body\"]\n",
    "true_labels = test_dataset[\"label\"]\n",
    "\n",
    "# 2. Tokenize the texts for prediction\n",
    "inputs = tokenizer(test_texts, padding=True, truncation=True, return_tensors=\"pt\", max_length=512)\n",
    "\n",
    "# 3. Run model on inputs\n",
    "model.eval()\n",
    "with torch.no_grad():\n",
    "    outputs = model(**inputs)\n",
    "    predictions = torch.argmax(outputs.logits, dim=-1).numpy()\n",
    "\n",
    "# 4. Get true labels\n",
    "true_labels = torch.tensor(true_labels).numpy()\n",
    "\n",
    "# 5. Compute confusion matrix\n",
    "cm = confusion_matrix(true_labels, predictions)\n",
    "disp = ConfusionMatrixDisplay(confusion_matrix=cm, display_labels=[\"Misogynistic\", \"Not Misogynistic\"])\n",
    "\n",
    "# 6. Plot it\n",
    "fig, ax = plt.subplots(figsize=(5,5))\n",
    "disp.plot(ax=ax, cmap=\"Blues\")\n",
    "plt.title(\"Confusion Matrix\")\n",
    "plt.show()\n"
   ]
  }
 ],
 "metadata": {
  "kernelspec": {
   "display_name": "Python 3",
   "language": "python",
   "name": "python3"
  },
  "language_info": {
   "codemirror_mode": {
    "name": "ipython",
    "version": 3
   },
   "file_extension": ".py",
   "mimetype": "text/x-python",
   "name": "python",
   "nbconvert_exporter": "python",
   "pygments_lexer": "ipython3",
   "version": "3.12.1"
  }
 },
 "nbformat": 4,
 "nbformat_minor": 2
}
