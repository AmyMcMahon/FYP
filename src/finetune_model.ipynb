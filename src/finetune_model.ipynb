{
 "cells": [
  {
   "cell_type": "code",
   "execution_count": 3,
   "metadata": {},
   "outputs": [],
   "source": [
    "import pandas as pd\n",
    "import torch\n",
    "from datasets import Dataset\n",
    "from transformers import AutoTokenizer, AutoModelForSequenceClassification, TrainingArguments, Trainer, pipeline\n",
    "from sklearn.preprocessing import LabelEncoder\n",
    "from sklearn.metrics import accuracy_score, f1_score, precision_score, recall_score, confusion_matrix, ConfusionMatrixDisplay\n",
    "import optuna\n",
    "import numpy as np\n",
    "import random\n",
    "from tqdm import tqdm\n",
    "import json\n",
    "import seaborn as sns\n",
    "import matplotlib.pyplot as plt\n",
    "\n"
   ]
  },
  {
   "cell_type": "code",
   "execution_count": 5,
   "metadata": {},
   "outputs": [],
   "source": [
    "df = pd.read_csv(\"../datasets/train/final_labels.csv\")\n",
    "df = df[['body', 'level_1']].dropna()\n",
    "\n",
    "new_df = pd.read_csv(\"../datasets/train/SD_dataset_FINAL.csv\")\n",
    "comments_df = pd.read_excel(\"../datasets/train/sampled_comments.xlsx\")\n",
    "submissions_df = pd.read_excel(\"../datasets/train/sampled_submissions.xlsx\")\n",
    "\n",
    "combined_new = pd.concat([comments_df, submissions_df], ignore_index=True)\n",
    "combined_new['level_1'] = combined_new['label'].map({\n",
    "    'Neutral': 'Nonmisogynistic',\n",
    "    'Misogynistic': 'Misogynistic',\n",
    "    'Mentions Misogyny': 'Misogynistic'\n",
    "})\n",
    "\n",
    "combined_new = combined_new[['body', 'level_1']].dropna()\n",
    "\n",
    "new_df['level_1'] = new_df['level_1'].map({1: 'Misogynistic', 0: 'Nonmisogynistic'})\n",
    "df = pd.concat([df, new_df], ignore_index=True)\n",
    "df = pd.concat([df, combined_new], ignore_index=True)\n",
    "\n"
   ]
  },
  {
   "cell_type": "code",
   "execution_count": 6,
   "metadata": {},
   "outputs": [],
   "source": [
    "label_encoder = LabelEncoder()\n",
    "df['label'] = label_encoder.fit_transform(df['level_1'])\n",
    "\n",
    "\n",
    "dataset = Dataset.from_pandas(df[['body', 'label']])\n",
    "\n",
    "dataset = dataset.train_test_split(test_size=0.2)\n",
    "train_dataset = dataset['train']\n",
    "test_dataset = dataset['test']"
   ]
  },
  {
   "cell_type": "code",
   "execution_count": 7,
   "metadata": {},
   "outputs": [
    {
     "name": "stderr",
     "output_type": "stream",
     "text": [
      "Map: 100%|██████████| 6637/6637 [00:03<00:00, 2195.21 examples/s]\n",
      "Map: 100%|██████████| 1660/1660 [00:00<00:00, 2169.71 examples/s]\n"
     ]
    }
   ],
   "source": [
    "device = torch.device(\"cuda\" if torch.cuda.is_available() else \"cpu\")\n",
    "\n",
    "model_name = \"MilaNLProc/bert-base-uncased-ear-misogyny\"\n",
    "tokenizer = AutoTokenizer.from_pretrained(model_name)\n",
    "\n",
    "#model = AutoModelForSequenceClassification.from_pretrained(\"misogyny-classifier\")\n",
    "#tokenizer = AutoTokenizer.from_pretrained(\"misogyny-classifier\")\n",
    "\n",
    "# 6. Tokenize the data\n",
    "def tokenize_function(example):\n",
    "    return tokenizer(example[\"body\"], padding=\"max_length\", truncation=True, max_length=512)\n",
    "\n",
    "train_dataset = train_dataset.map(tokenize_function, batched=True)\n",
    "test_dataset = test_dataset.map(tokenize_function, batched=True)\n"
   ]
  },
  {
   "cell_type": "code",
   "execution_count": 1,
   "metadata": {},
   "outputs": [
    {
     "name": "stdout",
     "output_type": "stream",
     "text": [
      "2.5.1+cu118\n",
      "True\n",
      "NVIDIA RTX A2000 8GB Laptop GPU\n"
     ]
    }
   ],
   "source": [
    "import torch\n",
    "print(torch.__version__)  # should show +cu118\n",
    "print(torch.cuda.is_available())  # should be True\n",
    "print(torch.cuda.get_device_name(0))  # should say \"NVIDIA RTX A2000\"\n"
   ]
  },
  {
   "cell_type": "code",
   "execution_count": 5,
   "metadata": {},
   "outputs": [
    {
     "name": "stderr",
     "output_type": "stream",
     "text": [
      "[I 2025-04-16 10:22:34,878] A new study created in memory with name: no-name-8fd9dafe-02a0-4827-bd35-be21eec159cd\n"
     ]
    },
    {
     "data": {
      "text/html": [
       "\n",
       "    <div>\n",
       "      \n",
       "      <progress value='4150' max='4150' style='width:300px; height:20px; vertical-align: middle;'></progress>\n",
       "      [4150/4150 1:03:42, Epoch 5/5]\n",
       "    </div>\n",
       "    <table border=\"1\" class=\"dataframe\">\n",
       "  <thead>\n",
       " <tr style=\"text-align: left;\">\n",
       "      <th>Step</th>\n",
       "      <th>Training Loss</th>\n",
       "    </tr>\n",
       "  </thead>\n",
       "  <tbody>\n",
       "    <tr>\n",
       "      <td>500</td>\n",
       "      <td>0.424800</td>\n",
       "    </tr>\n",
       "    <tr>\n",
       "      <td>1000</td>\n",
       "      <td>0.290100</td>\n",
       "    </tr>\n",
       "    <tr>\n",
       "      <td>1500</td>\n",
       "      <td>0.225700</td>\n",
       "    </tr>\n",
       "    <tr>\n",
       "      <td>2000</td>\n",
       "      <td>0.134100</td>\n",
       "    </tr>\n",
       "    <tr>\n",
       "      <td>2500</td>\n",
       "      <td>0.094000</td>\n",
       "    </tr>\n",
       "    <tr>\n",
       "      <td>3000</td>\n",
       "      <td>0.048600</td>\n",
       "    </tr>\n",
       "    <tr>\n",
       "      <td>3500</td>\n",
       "      <td>0.026800</td>\n",
       "    </tr>\n",
       "    <tr>\n",
       "      <td>4000</td>\n",
       "      <td>0.013400</td>\n",
       "    </tr>\n",
       "  </tbody>\n",
       "</table><p>"
      ],
      "text/plain": [
       "<IPython.core.display.HTML object>"
      ]
     },
     "metadata": {},
     "output_type": "display_data"
    },
    {
     "data": {
      "text/html": [
       "\n",
       "    <div>\n",
       "      \n",
       "      <progress value='1040' max='104' style='width:300px; height:20px; vertical-align: middle;'></progress>\n",
       "      [104/104 41:10:38]\n",
       "    </div>\n",
       "    "
      ],
      "text/plain": [
       "<IPython.core.display.HTML object>"
      ]
     },
     "metadata": {},
     "output_type": "display_data"
    },
    {
     "name": "stderr",
     "output_type": "stream",
     "text": [
      "[I 2025-04-16 11:27:22,941] Trial 0 finished with value: 3.719171682592723 and parameters: {'learning_rate': 3.303417251902611e-05, 'num_train_epochs': 5, 'per_device_train_batch_size': 8, 'weight_decay': 0.2587659155636994}. Best is trial 0 with value: 3.719171682592723.\n"
     ]
    },
    {
     "data": {
      "text/html": [
       "\n",
       "    <div>\n",
       "      \n",
       "      <progress value='1040' max='1040' style='width:300px; height:20px; vertical-align: middle;'></progress>\n",
       "      [1040/1040 22:54:24, Epoch 5/5]\n",
       "    </div>\n",
       "    <table border=\"1\" class=\"dataframe\">\n",
       "  <thead>\n",
       " <tr style=\"text-align: left;\">\n",
       "      <th>Step</th>\n",
       "      <th>Training Loss</th>\n",
       "    </tr>\n",
       "  </thead>\n",
       "  <tbody>\n",
       "    <tr>\n",
       "      <td>500</td>\n",
       "      <td>0.288700</td>\n",
       "    </tr>\n",
       "    <tr>\n",
       "      <td>1000</td>\n",
       "      <td>0.043700</td>\n",
       "    </tr>\n",
       "  </tbody>\n",
       "</table><p>"
      ],
      "text/plain": [
       "<IPython.core.display.HTML object>"
      ]
     },
     "metadata": {},
     "output_type": "display_data"
    },
    {
     "name": "stderr",
     "output_type": "stream",
     "text": [
      "[I 2025-04-17 10:23:13,651] Trial 1 finished with value: 3.7254837478633664 and parameters: {'learning_rate': 2.597986092999817e-05, 'num_train_epochs': 5, 'per_device_train_batch_size': 32, 'weight_decay': 0.21556156972569296}. Best is trial 1 with value: 3.7254837478633664.\n"
     ]
    },
    {
     "data": {
      "text/html": [
       "\n",
       "    <div>\n",
       "      \n",
       "      <progress value='624' max='624' style='width:300px; height:20px; vertical-align: middle;'></progress>\n",
       "      [624/624 3:30:10, Epoch 3/3]\n",
       "    </div>\n",
       "    <table border=\"1\" class=\"dataframe\">\n",
       "  <thead>\n",
       " <tr style=\"text-align: left;\">\n",
       "      <th>Step</th>\n",
       "      <th>Training Loss</th>\n",
       "    </tr>\n",
       "  </thead>\n",
       "  <tbody>\n",
       "    <tr>\n",
       "      <td>500</td>\n",
       "      <td>0.359700</td>\n",
       "    </tr>\n",
       "  </tbody>\n",
       "</table><p>"
      ],
      "text/plain": [
       "<IPython.core.display.HTML object>"
      ]
     },
     "metadata": {},
     "output_type": "display_data"
    },
    {
     "name": "stderr",
     "output_type": "stream",
     "text": [
      "[I 2025-04-17 13:54:48,692] Trial 2 finished with value: 3.6920096618692573 and parameters: {'learning_rate': 1.203584371201866e-05, 'num_train_epochs': 3, 'per_device_train_batch_size': 32, 'weight_decay': 0.013367669133077353}. Best is trial 1 with value: 3.7254837478633664.\n"
     ]
    },
    {
     "data": {
      "text/html": [
       "\n",
       "    <div>\n",
       "      \n",
       "      <progress value='830' max='830' style='width:300px; height:20px; vertical-align: middle;'></progress>\n",
       "      [830/830 22:57, Epoch 2/2]\n",
       "    </div>\n",
       "    <table border=\"1\" class=\"dataframe\">\n",
       "  <thead>\n",
       " <tr style=\"text-align: left;\">\n",
       "      <th>Step</th>\n",
       "      <th>Training Loss</th>\n",
       "    </tr>\n",
       "  </thead>\n",
       "  <tbody>\n",
       "    <tr>\n",
       "      <td>500</td>\n",
       "      <td>0.335600</td>\n",
       "    </tr>\n",
       "  </tbody>\n",
       "</table><p>"
      ],
      "text/plain": [
       "<IPython.core.display.HTML object>"
      ]
     },
     "metadata": {},
     "output_type": "display_data"
    },
    {
     "name": "stderr",
     "output_type": "stream",
     "text": [
      "[I 2025-04-17 14:18:50,175] Trial 3 finished with value: 3.705566446650404 and parameters: {'learning_rate': 4.665242795060328e-05, 'num_train_epochs': 2, 'per_device_train_batch_size': 16, 'weight_decay': 0.1544565871189892}. Best is trial 1 with value: 3.7254837478633664.\n"
     ]
    },
    {
     "data": {
      "text/html": [
       "\n",
       "    <div>\n",
       "      \n",
       "      <progress value='1040' max='1040' style='width:300px; height:20px; vertical-align: middle;'></progress>\n",
       "      [1040/1040 6:39:02, Epoch 5/5]\n",
       "    </div>\n",
       "    <table border=\"1\" class=\"dataframe\">\n",
       "  <thead>\n",
       " <tr style=\"text-align: left;\">\n",
       "      <th>Step</th>\n",
       "      <th>Training Loss</th>\n",
       "    </tr>\n",
       "  </thead>\n",
       "  <tbody>\n",
       "    <tr>\n",
       "      <td>500</td>\n",
       "      <td>0.251400</td>\n",
       "    </tr>\n",
       "    <tr>\n",
       "      <td>1000</td>\n",
       "      <td>0.028400</td>\n",
       "    </tr>\n",
       "  </tbody>\n",
       "</table><p>"
      ],
      "text/plain": [
       "<IPython.core.display.HTML object>"
      ]
     },
     "metadata": {},
     "output_type": "display_data"
    },
    {
     "name": "stderr",
     "output_type": "stream",
     "text": [
      "[I 2025-04-17 20:59:25,479] Trial 4 finished with value: 3.715519580993015 and parameters: {'learning_rate': 4.198412275386926e-05, 'num_train_epochs': 5, 'per_device_train_batch_size': 32, 'weight_decay': 0.26068908183329836}. Best is trial 1 with value: 3.7254837478633664.\n"
     ]
    },
    {
     "data": {
      "text/html": [
       "\n",
       "    <div>\n",
       "      \n",
       "      <progress value='830' max='830' style='width:300px; height:20px; vertical-align: middle;'></progress>\n",
       "      [830/830 23:44, Epoch 2/2]\n",
       "    </div>\n",
       "    <table border=\"1\" class=\"dataframe\">\n",
       "  <thead>\n",
       " <tr style=\"text-align: left;\">\n",
       "      <th>Step</th>\n",
       "      <th>Training Loss</th>\n",
       "    </tr>\n",
       "  </thead>\n",
       "  <tbody>\n",
       "    <tr>\n",
       "      <td>500</td>\n",
       "      <td>0.338800</td>\n",
       "    </tr>\n",
       "  </tbody>\n",
       "</table><p>"
      ],
      "text/plain": [
       "<IPython.core.display.HTML object>"
      ]
     },
     "metadata": {},
     "output_type": "display_data"
    },
    {
     "name": "stderr",
     "output_type": "stream",
     "text": [
      "[I 2025-04-17 21:24:20,087] Trial 5 finished with value: 3.7187839338645414 and parameters: {'learning_rate': 4.126657308924073e-05, 'num_train_epochs': 2, 'per_device_train_batch_size': 16, 'weight_decay': 0.20266728139124585}. Best is trial 1 with value: 3.7254837478633664.\n"
     ]
    },
    {
     "data": {
      "text/html": [
       "\n",
       "    <div>\n",
       "      \n",
       "      <progress value='2490' max='2490' style='width:300px; height:20px; vertical-align: middle;'></progress>\n",
       "      [2490/2490 38:07, Epoch 3/3]\n",
       "    </div>\n",
       "    <table border=\"1\" class=\"dataframe\">\n",
       "  <thead>\n",
       " <tr style=\"text-align: left;\">\n",
       "      <th>Step</th>\n",
       "      <th>Training Loss</th>\n",
       "    </tr>\n",
       "  </thead>\n",
       "  <tbody>\n",
       "    <tr>\n",
       "      <td>500</td>\n",
       "      <td>0.432500</td>\n",
       "    </tr>\n",
       "    <tr>\n",
       "      <td>1000</td>\n",
       "      <td>0.275800</td>\n",
       "    </tr>\n",
       "    <tr>\n",
       "      <td>1500</td>\n",
       "      <td>0.217200</td>\n",
       "    </tr>\n",
       "    <tr>\n",
       "      <td>2000</td>\n",
       "      <td>0.121100</td>\n",
       "    </tr>\n",
       "  </tbody>\n",
       "</table><p>"
      ],
      "text/plain": [
       "<IPython.core.display.HTML object>"
      ]
     },
     "metadata": {},
     "output_type": "display_data"
    },
    {
     "name": "stderr",
     "output_type": "stream",
     "text": [
      "[I 2025-04-17 22:03:37,447] Trial 6 finished with value: 3.731548718034847 and parameters: {'learning_rate': 3.197255355790083e-05, 'num_train_epochs': 3, 'per_device_train_batch_size': 8, 'weight_decay': 0.07879902072783182}. Best is trial 6 with value: 3.731548718034847.\n"
     ]
    },
    {
     "data": {
      "text/html": [
       "\n",
       "    <div>\n",
       "      \n",
       "      <progress value='830' max='830' style='width:300px; height:20px; vertical-align: middle;'></progress>\n",
       "      [830/830 23:41, Epoch 2/2]\n",
       "    </div>\n",
       "    <table border=\"1\" class=\"dataframe\">\n",
       "  <thead>\n",
       " <tr style=\"text-align: left;\">\n",
       "      <th>Step</th>\n",
       "      <th>Training Loss</th>\n",
       "    </tr>\n",
       "  </thead>\n",
       "  <tbody>\n",
       "    <tr>\n",
       "      <td>500</td>\n",
       "      <td>0.351200</td>\n",
       "    </tr>\n",
       "  </tbody>\n",
       "</table><p>"
      ],
      "text/plain": [
       "<IPython.core.display.HTML object>"
      ]
     },
     "metadata": {},
     "output_type": "display_data"
    },
    {
     "name": "stderr",
     "output_type": "stream",
     "text": [
      "[I 2025-04-17 22:28:27,905] Trial 7 finished with value: 3.718159717856464 and parameters: {'learning_rate': 3.338812255864073e-05, 'num_train_epochs': 2, 'per_device_train_batch_size': 16, 'weight_decay': 0.028692093202150645}. Best is trial 6 with value: 3.731548718034847.\n"
     ]
    },
    {
     "data": {
      "text/html": [
       "\n",
       "    <div>\n",
       "      \n",
       "      <progress value='624' max='624' style='width:300px; height:20px; vertical-align: middle;'></progress>\n",
       "      [624/624 3:43:53, Epoch 3/3]\n",
       "    </div>\n",
       "    <table border=\"1\" class=\"dataframe\">\n",
       "  <thead>\n",
       " <tr style=\"text-align: left;\">\n",
       "      <th>Step</th>\n",
       "      <th>Training Loss</th>\n",
       "    </tr>\n",
       "  </thead>\n",
       "  <tbody>\n",
       "    <tr>\n",
       "      <td>500</td>\n",
       "      <td>0.284200</td>\n",
       "    </tr>\n",
       "  </tbody>\n",
       "</table><p>"
      ],
      "text/plain": [
       "<IPython.core.display.HTML object>"
      ]
     },
     "metadata": {},
     "output_type": "display_data"
    },
    {
     "name": "stderr",
     "output_type": "stream",
     "text": [
      "[I 2025-04-18 02:13:48,587] Trial 8 finished with value: 3.717188746526795 and parameters: {'learning_rate': 2.750039799297207e-05, 'num_train_epochs': 3, 'per_device_train_batch_size': 32, 'weight_decay': 0.1565742174061875}. Best is trial 6 with value: 3.731548718034847.\n"
     ]
    },
    {
     "data": {
      "text/html": [
       "\n",
       "    <div>\n",
       "      \n",
       "      <progress value='416' max='416' style='width:300px; height:20px; vertical-align: middle;'></progress>\n",
       "      [416/416 2:21:52, Epoch 2/2]\n",
       "    </div>\n",
       "    <table border=\"1\" class=\"dataframe\">\n",
       "  <thead>\n",
       " <tr style=\"text-align: left;\">\n",
       "      <th>Step</th>\n",
       "      <th>Training Loss</th>\n",
       "    </tr>\n",
       "  </thead>\n",
       "  <tbody>\n",
       "  </tbody>\n",
       "</table><p>"
      ],
      "text/plain": [
       "<IPython.core.display.HTML object>"
      ]
     },
     "metadata": {},
     "output_type": "display_data"
    },
    {
     "name": "stderr",
     "output_type": "stream",
     "text": [
      "[I 2025-04-18 04:37:02,158] Trial 9 finished with value: 3.722779558995652 and parameters: {'learning_rate': 3.962522193834928e-05, 'num_train_epochs': 2, 'per_device_train_batch_size': 32, 'weight_decay': 0.011008868803692128}. Best is trial 6 with value: 3.731548718034847.\n"
     ]
    },
    {
     "name": "stdout",
     "output_type": "stream",
     "text": [
      "Best trial:\n",
      "BestRun(run_id='6', objective=3.731548718034847, hyperparameters={'learning_rate': 3.197255355790083e-05, 'num_train_epochs': 3, 'per_device_train_batch_size': 8, 'weight_decay': 0.07879902072783182}, run_summary=None)\n"
     ]
    }
   ],
   "source": [
    "def model_init():\n",
    "    return AutoModelForSequenceClassification.from_pretrained(model_name, num_labels=2)\n",
    "\n",
    "def compute_metrics(eval_pred):\n",
    "    logits, labels = eval_pred\n",
    "    predictions = torch.argmax(torch.tensor(logits), dim=-1)\n",
    "    return {\n",
    "        \"accuracy\": accuracy_score(labels, predictions),\n",
    "        \"f1\": f1_score(labels, predictions),\n",
    "        \"precision\": precision_score(labels, predictions),\n",
    "        \"recall\": recall_score(labels, predictions),\n",
    "    }\n",
    "\n",
    "def hp_space(trial):\n",
    "    return {\n",
    "        \"learning_rate\": trial.suggest_float(\"learning_rate\", 1e-5, 5e-5, log=True),\n",
    "        \"num_train_epochs\": trial.suggest_int(\"num_train_epochs\", 2, 5),\n",
    "        \"per_device_train_batch_size\": trial.suggest_categorical(\"per_device_train_batch_size\", [8, 16, 32]),\n",
    "        \"weight_decay\": trial.suggest_float(\"weight_decay\", 0.0, 0.3),\n",
    "    }\n",
    "\n",
    "# 8. Training arguments\n",
    "training_args = TrainingArguments(\n",
    "    output_dir=\"./results\",\n",
    "    eval_strategy=\"epoch\",\n",
    "    save_strategy=\"epoch\",\n",
    "    load_best_model_at_end=True,\n",
    "    logging_dir=\"./logs\",\n",
    "    metric_for_best_model=\"f1\"\n",
    ")\n",
    "\n",
    "def set_seed(seed=42):\n",
    "    random.seed(seed)\n",
    "    np.random.seed(seed)\n",
    "    torch.manual_seed(seed)\n",
    "    if torch.cuda.is_available():\n",
    "        torch.cuda.manual_seed_all(seed)\n",
    "\n",
    "set_seed(42)\n",
    "\n",
    "training_args = TrainingArguments(output_dir=\"./eval\", per_device_eval_batch_size=16)\n",
    "\n",
    "# 9. Trainer\n",
    "trainer = Trainer(\n",
    "    model_init=model_init,\n",
    "    args=training_args,\n",
    "    train_dataset=train_dataset,\n",
    "    eval_dataset=test_dataset,\n",
    "    compute_metrics=compute_metrics\n",
    ")\n",
    "\n",
    "best_trial = trainer.hyperparameter_search(\n",
    "    direction=\"maximize\",\n",
    "    backend=\"optuna\",\n",
    "    hp_space=hp_space,\n",
    "    n_trials=10  # increase if you want a deeper search\n",
    ")\n",
    "\n",
    "print(\"Best trial:\")\n",
    "print(best_trial)"
   ]
  },
  {
   "cell_type": "code",
   "execution_count": 7,
   "metadata": {},
   "outputs": [
    {
     "data": {
      "text/html": [
       "\n",
       "    <div>\n",
       "      \n",
       "      <progress value='2490' max='2490' style='width:300px; height:20px; vertical-align: middle;'></progress>\n",
       "      [2490/2490 39:29, Epoch 3/3]\n",
       "    </div>\n",
       "    <table border=\"1\" class=\"dataframe\">\n",
       "  <thead>\n",
       " <tr style=\"text-align: left;\">\n",
       "      <th>Epoch</th>\n",
       "      <th>Training Loss</th>\n",
       "      <th>Validation Loss</th>\n",
       "      <th>Accuracy</th>\n",
       "      <th>F1</th>\n",
       "      <th>Precision</th>\n",
       "      <th>Recall</th>\n",
       "    </tr>\n",
       "  </thead>\n",
       "  <tbody>\n",
       "    <tr>\n",
       "      <td>1</td>\n",
       "      <td>0.431600</td>\n",
       "      <td>0.298205</td>\n",
       "      <td>0.890964</td>\n",
       "      <td>0.936558</td>\n",
       "      <td>0.908226</td>\n",
       "      <td>0.966715</td>\n",
       "    </tr>\n",
       "    <tr>\n",
       "      <td>2</td>\n",
       "      <td>0.209200</td>\n",
       "      <td>0.394947</td>\n",
       "      <td>0.891566</td>\n",
       "      <td>0.935159</td>\n",
       "      <td>0.931133</td>\n",
       "      <td>0.939219</td>\n",
       "    </tr>\n",
       "    <tr>\n",
       "      <td>3</td>\n",
       "      <td>0.125300</td>\n",
       "      <td>0.580403</td>\n",
       "      <td>0.900000</td>\n",
       "      <td>0.940714</td>\n",
       "      <td>0.928773</td>\n",
       "      <td>0.952967</td>\n",
       "    </tr>\n",
       "  </tbody>\n",
       "</table><p>"
      ],
      "text/plain": [
       "<IPython.core.display.HTML object>"
      ]
     },
     "metadata": {},
     "output_type": "display_data"
    },
    {
     "data": {
      "text/plain": [
       "('best-misogyny-model\\\\tokenizer_config.json',\n",
       " 'best-misogyny-model\\\\special_tokens_map.json',\n",
       " 'best-misogyny-model\\\\vocab.txt',\n",
       " 'best-misogyny-model\\\\added_tokens.json',\n",
       " 'best-misogyny-model\\\\tokenizer.json')"
      ]
     },
     "execution_count": 7,
     "metadata": {},
     "output_type": "execute_result"
    }
   ],
   "source": [
    "# Step 1: Extract best params\n",
    "best_params = best_trial.hyperparameters\n",
    "\n",
    "# Step 2: Update training args with them\n",
    "final_args = TrainingArguments(\n",
    "    output_dir=\"./best_model\",\n",
    "    eval_strategy=\"epoch\",\n",
    "    save_strategy=\"epoch\",\n",
    "    learning_rate=best_params[\"learning_rate\"],\n",
    "    per_device_train_batch_size=best_params[\"per_device_train_batch_size\"],\n",
    "    num_train_epochs=best_params[\"num_train_epochs\"],\n",
    "    weight_decay=best_params[\"weight_decay\"],\n",
    "    load_best_model_at_end=True,\n",
    "    metric_for_best_model=\"f1\",\n",
    "    logging_dir=\"./logs\"\n",
    ")\n",
    "\n",
    "# Step 3: Create a new Trainer with best settings\n",
    "final_trainer = Trainer(\n",
    "    model_init=model_init,\n",
    "    args=final_args,\n",
    "    train_dataset=train_dataset,\n",
    "    eval_dataset=test_dataset,\n",
    "    compute_metrics=compute_metrics\n",
    ")\n",
    "\n",
    "# Step 4: Train it!\n",
    "final_trainer.train()\n",
    "\n",
    "# Step 5 (optional): Save the model + tokenizer\n",
    "final_trainer.save_model(\"best-misogyny-model\")\n",
    "tokenizer.save_pretrained(\"best-misogyny-model\")\n"
   ]
  },
  {
   "cell_type": "code",
   "execution_count": 9,
   "metadata": {},
   "outputs": [
    {
     "data": {
      "text/html": [],
      "text/plain": [
       "<IPython.core.display.HTML object>"
      ]
     },
     "metadata": {},
     "output_type": "display_data"
    },
    {
     "name": "stdout",
     "output_type": "stream",
     "text": [
      "Evaluation Results: {'eval_loss': 0.5804033875465393, 'eval_accuracy': 0.9, 'eval_f1': 0.9407142857142857, 'eval_precision': 0.9287729196050776, 'eval_recall': 0.9529667149059334, 'eval_runtime': 60.4833, 'eval_samples_per_second': 27.446, 'eval_steps_per_second': 3.439, 'epoch': 3.0}\n"
     ]
    }
   ],
   "source": [
    "# # 11. Evaluate\n",
    "eval_result = final_trainer.evaluate()\n",
    "print(\"Evaluation Results:\", eval_result)\n",
    "\n",
    "# # (Optional) Save model\n",
    "# trainer.save_model(\"misogyny-classifier\")\n",
    "# tokenizer.save_pretrained(\"misogyny-classifier\")"
   ]
  },
  {
   "cell_type": "code",
   "execution_count": 18,
   "metadata": {},
   "outputs": [
    {
     "data": {
      "text/html": [],
      "text/plain": [
       "<IPython.core.display.HTML object>"
      ]
     },
     "metadata": {},
     "output_type": "display_data"
    },
    {
     "data": {
      "image/png": "[encoded data removed]",
      "text/plain": [
       "<Figure size 500x500 with 2 Axes>"
      ]
     },
     "metadata": {},
     "output_type": "display_data"
    }
   ],
   "source": [
    "# this will run in batches under the hood and stay on GPU\n",
    "predictions = final_trainer.predict(test_dataset).predictions  # shape [n_examples, n_labels]\n",
    "pred_labels = np.argmax(predictions, axis=1)\n",
    "\n",
    "# now build your confusion matrix:\n",
    "from sklearn.metrics import confusion_matrix, ConfusionMatrixDisplay\n",
    "cm = confusion_matrix(test_dataset[\"label\"], pred_labels)\n",
    "disp = ConfusionMatrixDisplay(cm, display_labels=[\"Misogynistic\",\"Not Misogynistic\"])\n",
    "fig, ax = plt.subplots(figsize=(5,5))\n",
    "disp.plot(ax=ax, cmap=\"Blues\")\n",
    "plt.title(\"Confusion Matrix\")\n",
    "plt.savefig(\"../images/bert-hypermarams-confusion.png\")\n"
   ]
  },
  {
   "cell_type": "code",
   "execution_count": 16,
   "metadata": {},
   "outputs": [
    {
     "name": "stderr",
     "output_type": "stream",
     "text": [
      "C:\\Users\\AMcmaho2\\AppData\\Local\\Temp\\ipykernel_31976\\2191320430.py:47: FutureWarning: `tokenizer` is deprecated and will be removed in version 5.0.0 for `Trainer.__init__`. Use `processing_class` instead.\n",
      "  trainer = Trainer(\n"
     ]
    },
    {
     "data": {
      "text/html": [],
      "text/plain": [
       "<IPython.core.display.HTML object>"
      ]
     },
     "metadata": {},
     "output_type": "display_data"
    },
    {
     "name": "stdout",
     "output_type": "stream",
     "text": [
      "Saved labeled data to ../datasets/results/bert-hyperparam-comments.csv\n"
     ]
    },
    {
     "data": {
      "image/png": "[encoded data removed]",
      "text/plain": [
       "<Figure size 800x600 with 1 Axes>"
      ]
     },
     "metadata": {},
     "output_type": "display_data"
    }
   ],
   "source": [
    "from transformers import Trainer, TrainingArguments, AutoModelForSequenceClassification, AutoTokenizer\n",
    "import torch\n",
    "from datasets import Dataset\n",
    "import json\n",
    "import pandas as pd\n",
    "from tqdm import tqdm\n",
    "import matplotlib.pyplot as plt\n",
    "import seaborn as sns\n",
    "\n",
    "# 1) Load the model & tokenizer from disk\n",
    "model = AutoModelForSequenceClassification.from_pretrained(\"best-misogyny-model\")\n",
    "tokenizer = AutoTokenizer.from_pretrained(\"best-misogyny-model\")\n",
    "\n",
    "# 2) Set device for GPU if available\n",
    "device = 0 if torch.cuda.is_available() else -1\n",
    "\n",
    "# 3) Load your custom dataset\n",
    "file_path = '../datasets/test/womenEngineers_comment_filtered.json'  # Update this path to your file\n",
    "output_csv_path = '../datasets/results/bert-hyperparam-comments.csv'\n",
    "\n",
    "# Read your dataset\n",
    "with open(file_path, 'r') as f:\n",
    "    lines = f.readlines()\n",
    "\n",
    "# Prepare data for Trainer\n",
    "texts = []\n",
    "for line in lines:\n",
    "    data = json.loads(line)\n",
    "    body = data.get(\"body\", \"\").strip()  # Extracting 'body' field for comment text\n",
    "    texts.append(body)\n",
    "\n",
    "# Tokenize the texts using the tokenizer\n",
    "inputs = tokenizer(texts, padding=True, truncation=True, return_tensors=\"pt\", max_length=512)\n",
    "\n",
    "# Convert inputs to a dataset\n",
    "inputs_dataset = Dataset.from_dict({\n",
    "    \"input_ids\": inputs[\"input_ids\"],\n",
    "    \"attention_mask\": inputs[\"attention_mask\"]\n",
    "})\n",
    "\n",
    "# Create the Trainer\n",
    "training_args = TrainingArguments(\n",
    "    output_dir=\"./results\",  # Directory to save results (not used for inference, but required)\n",
    "    per_device_eval_batch_size=16,  # Use 16 for batch size (or another value that fits your GPU memory)\n",
    ")\n",
    "\n",
    "trainer = Trainer(\n",
    "    model=model,               # The fine-tuned model\n",
    "    args=training_args,        # TrainingArguments\n",
    "    tokenizer=tokenizer,       # The tokenizer used in the fine-tuning\n",
    ")\n",
    "\n",
    "# 4) Predict on the dataset using the trainer\n",
    "predictions = trainer.predict(inputs_dataset).predictions  # shape [n_examples, n_labels]\n",
    "pred_labels = predictions.argmax(axis=-1)  # Get the predicted labels (max probability)\n",
    "\n",
    "# 5) Save the results to a CSV file\n",
    "labeled_data = []\n",
    "for text, label in zip(texts, pred_labels):\n",
    "    sentiment = \"misogynist\" if label == 0 else \"non-misogynist\"\n",
    "    labeled_data.append({\"title\": text, \"sentiment\": sentiment})\n",
    "\n",
    "df = pd.DataFrame(labeled_data)\n",
    "df.to_csv(output_csv_path, index=False)\n",
    "print(f\"Saved labeled data to {output_csv_path}\")\n",
    "\n",
    "# 6) Plot the distribution of sentiment labels\n",
    "level_counts = {\"misogynist\": sum(pred_labels == 1), \"non-misogynist\": sum(pred_labels == 0)}\n",
    "\n",
    "plt.figure(figsize=(8, 6))\n",
    "sns.barplot(x=list(level_counts.keys()), \n",
    "            y=list(level_counts.values()), \n",
    "            hue=list(level_counts.keys()), \n",
    "            palette=\"Blues\", \n",
    "            legend=False)\n",
    "\n",
    "plt.xlabel(\"Sentiment Level\")\n",
    "plt.ylabel(\"Number of Comments\")\n",
    "plt.title(\"Distribution of Comments Across Sentiment Levels (Bert EAR hyperparams)\")\n",
    "plt.savefig(\"../images/hyperparams-bert-comments.png\")\n",
    "plt.show()"
   ]
  }
 ],
 "metadata": {
  "kernelspec": {
   "display_name": ".venv311",
   "language": "python",
   "name": "python3"
  },
  "language_info": {
   "codemirror_mode": {
    "name": "ipython",
    "version": 3
   },
   "file_extension": ".py",
   "mimetype": "text/x-python",
   "name": "python",
   "nbconvert_exporter": "python",
   "pygments_lexer": "ipython3",
   "version": "3.11.0"
  }
 },
 "nbformat": 4,
 "nbformat_minor": 2
}
